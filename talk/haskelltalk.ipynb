{
 "cells": [
  {
   "cell_type": "markdown",
   "metadata": {},
   "source": [
    "# Interesting Features of Haskell\n",
    "- Types\n",
    "- non-strictness\n",
    "- recursion\n",
    "- pattern matching"
   ]
  },
  {
   "cell_type": "markdown",
   "metadata": {},
   "source": [
    "## Mandatory helloWorld:"
   ]
  },
  {
   "cell_type": "code",
   "execution_count": 20,
   "metadata": {},
   "outputs": [
    {
     "data": {
      "text/plain": [
       "Hello World"
      ]
     },
     "metadata": {},
     "output_type": "display_data"
    }
   ],
   "source": [
    "main :: IO ()\n",
    "main = putStrLn \"Hello World\"\n",
    "\n",
    "-- Execute\n",
    "main"
   ]
  },
  {
   "cell_type": "markdown",
   "metadata": {},
   "source": [
    "## Types:\n",
    "- String, Bool, Integer, Int\n",
    "- More interesting types:\n",
    "  - Sum\n",
    "  - Product\n",
    "  - Maybe (if we have time)"
   ]
  },
  {
   "cell_type": "markdown",
   "metadata": {},
   "source": [
    "## Syntax:\n",
    "- Expressions\n",
    "- Type sigs"
   ]
  },
  {
   "cell_type": "code",
   "execution_count": 3,
   "metadata": {},
   "outputs": [],
   "source": [
    "-- Expressions\n",
    "\n",
    "a = 1 + 2\n",
    "b = \"This is a String\"\n",
    "\n",
    "-- Type Signatures\n",
    "\n",
    "a :: Int\n",
    "b :: String\n",
    "\n",
    "-- Together\n",
    "\n",
    "a :: Int\n",
    "a = 1 + 2\n",
    "\n",
    "b :: String\n",
    "b = \"This is a String\""
   ]
  },
  {
   "cell_type": "markdown",
   "metadata": {},
   "source": [
    "## Functions in haskell"
   ]
  },
  {
   "cell_type": "code",
   "execution_count": null,
   "metadata": {},
   "outputs": [],
   "source": [
    "add :: Int -> Int -> Int\n",
    "--      [1]    [2]    [3]\n",
    "add a b = a + b"
   ]
  },
  {
   "cell_type": "markdown",
   "metadata": {},
   "source": [
    "**add** is a function which takes 2 Int args [1], [2] , returns an Int [3]"
   ]
  },
  {
   "cell_type": "markdown",
   "metadata": {},
   "source": [
    "# Currying\n",
    "To understand the way functions work lets talk about currying"
   ]
  },
  {
   "cell_type": "markdown",
   "metadata": {},
   "source": [
    "functions in Haskell take one argument and return a function / value"
   ]
  },
  {
   "cell_type": "code",
   "execution_count": 5,
   "metadata": {},
   "outputs": [],
   "source": [
    "add :: Int -> (Int -> Int)\n",
    "add a = \\x -> a + x"
   ]
  },
  {
   "cell_type": "markdown",
   "metadata": {},
   "source": [
    "Hence, you can partially apply functions!"
   ]
  },
  {
   "cell_type": "markdown",
   "metadata": {},
   "source": [
    "## Pattern matching"
   ]
  },
  {
   "cell_type": "code",
   "execution_count": 10,
   "metadata": {},
   "outputs": [
    {
     "data": {
      "text/plain": [
       "Hello Noel"
      ]
     },
     "metadata": {},
     "output_type": "display_data"
    }
   ],
   "source": [
    "const :: a -> b -> a\n",
    "const a _ = a\n",
    "\n",
    "sayHi :: String -> String\n",
    "sayHi str =\n",
    "  case str of\n",
    "    \"Noel\" -> \"Hello \" ++ str\n",
    "    \"Harish\" -> \"Hello \" ++ str\n",
    "    _ -> \"Who are you\"\n",
    "    \n",
    "putStrLn $ sayHi \"Noel\""
   ]
  },
  {
   "cell_type": "markdown",
   "metadata": {},
   "source": [
    "## Recursion"
   ]
  },
  {
   "cell_type": "markdown",
   "metadata": {},
   "source": [
    "Many things can be defined in Haskell through recursion"
   ]
  },
  {
   "cell_type": "code",
   "execution_count": 12,
   "metadata": {},
   "outputs": [],
   "source": [
    "length :: String -> Int\n",
    "length \"\" = 0\n",
    "length (x:xs) = 1 + length xs"
   ]
  },
  {
   "cell_type": "markdown",
   "metadata": {},
   "source": [
    "## Sum Types"
   ]
  },
  {
   "cell_type": "code",
   "execution_count": 16,
   "metadata": {},
   "outputs": [
    {
     "data": {
      "text/plain": [
       "NoelKwan\n",
       "False"
      ]
     },
     "metadata": {},
     "output_type": "display_data"
    }
   ],
   "source": [
    "data Noel = Noel | Kwan deriving (Eq, Show)\n",
    "\n",
    "main :: IO ()\n",
    "main = do\n",
    "  putStr $ show Noel\n",
    "  putStrLn $ show Kwan\n",
    "  print $ Noel == Kwan\n",
    "\n",
    "main"
   ]
  },
  {
   "cell_type": "markdown",
   "metadata": {},
   "source": [
    "## Product Types"
   ]
  },
  {
   "cell_type": "code",
   "execution_count": 19,
   "metadata": {},
   "outputs": [
    {
     "ename": "",
     "evalue": "",
     "output_type": "error",
     "traceback": [
      "<interactive>:6:34: error:\n    • Couldn't match expected type ‘Char -> Bool’ with actual type ‘[Char -> Bool]’\n    • Possible cause: ‘fmap’ is applied to too many arguments\n      In the first argument of ‘all’, namely ‘(fmap (==) ['a' .. 'z'])’\n      In the second argument of ‘(&&)’, namely ‘all (fmap (==) ['a' .. 'z']) name’\n      In the second argument of ‘(&&)’, namely ‘age < 100 && all (fmap (==) ['a' .. 'z']) name’\n<interactive>:6:63: error:\n    • Couldn't match expected type ‘Maybe Noelex’ with actual type ‘Noelex’\n    • In the expression: Noel age name\n      In an equation for ‘mkNoel’:\n          mkNoel age name\n            | age > 0 && age < 100 && all (fmap (==) ['a' .. 'z']) name = Noel age name\n            | otherwise = Nothing"
     ]
    }
   ],
   "source": [
    "type Age = Int\n",
    "type Name = String\n",
    "\n",
    "data Noelex = Noel Age Name deriving (Eq, Show)"
   ]
  },
  {
   "cell_type": "markdown",
   "metadata": {},
   "source": [
    "## Combining Recursion, Sum, Product Types"
   ]
  },
  {
   "cell_type": "code",
   "execution_count": null,
   "metadata": {},
   "outputs": [],
   "source": [
    "data Int' = Zero | One Int'\n",
    "data Int' "
   ]
  }
 ],
 "metadata": {
  "kernelspec": {
   "display_name": "Haskell",
   "language": "haskell",
   "name": "haskell"
  },
  "language_info": {
   "codemirror_mode": "ihaskell",
   "file_extension": ".hs",
   "name": "haskell",
   "pygments_lexer": "Haskell",
   "version": "8.6.3"
  }
 },
 "nbformat": 4,
 "nbformat_minor": 2
}
